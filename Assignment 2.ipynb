{
 "cells": [
  {
   "cell_type": "markdown",
   "id": "1c9ef2b8",
   "metadata": {},
   "source": [
    "# Tasks A Build 99% Confidence Interval Using Sample Standard Deviation"
   ]
  },
  {
   "cell_type": "markdown",
   "id": "15a09cb0",
   "metadata": {},
   "source": [
    "Step 1: First, import libraries like Pandas, numpy, scipy.\n",
    "1)Pandas is used for data manipulation and analysis.\n",
    "\n",
    "2)NumPy makes it easy to do math with big lists of numbers, like adding, multiplying, or finding averages—very fast and efficiently.\n",
    "\n",
    "3)scipy helps you do math and stats tasks like solving equations, doing integration, finding probabilities, working with signals, and more.\n",
    "\n",
    "\n",
    "\n"
   ]
  },
  {
   "cell_type": "code",
   "execution_count": 3,
   "id": "8ad8d0bf",
   "metadata": {},
   "outputs": [],
   "source": [
    "import pandas as pd\n",
    "import numpy as np\n",
    "import scipy.stats as st\n",
    "from scipy.stats import norm"
   ]
  },
  {
   "cell_type": "markdown",
   "id": "c1bedc8c",
   "metadata": {},
   "source": [
    "step 2 : Provide the dataset in List"
   ]
  },
  {
   "cell_type": "code",
   "execution_count": 4,
   "id": "a1edb4e5",
   "metadata": {},
   "outputs": [],
   "source": [
    "df =[1.13, 1.55, 1.43, 0.92, 1.25, 1.36, 1.32, 0.85, 1.07, 1.48, 1.20, 1.33, 1.18, 1.22, 1.29]"
   ]
  },
  {
   "cell_type": "code",
   "execution_count": 5,
   "id": "b583c2d2",
   "metadata": {},
   "outputs": [
    {
     "data": {
      "text/plain": [
       "[1.13,\n",
       " 1.55,\n",
       " 1.43,\n",
       " 0.92,\n",
       " 1.25,\n",
       " 1.36,\n",
       " 1.32,\n",
       " 0.85,\n",
       " 1.07,\n",
       " 1.48,\n",
       " 1.2,\n",
       " 1.33,\n",
       " 1.18,\n",
       " 1.22,\n",
       " 1.29]"
      ]
     },
     "execution_count": 5,
     "metadata": {},
     "output_type": "execute_result"
    }
   ],
   "source": [
    "df"
   ]
  },
  {
   "cell_type": "markdown",
   "id": "3b06b9c1",
   "metadata": {},
   "source": [
    "# Construct the Confidence Interval"
   ]
  },
  {
   "cell_type": "markdown",
   "id": "d134eaf9",
   "metadata": {},
   "source": [
    "   Step:1 Identify the Give  Values:"
   ]
  },
  {
   "cell_type": "code",
   "execution_count": 6,
   "id": "c3a79c45",
   "metadata": {},
   "outputs": [],
   "source": [
    "confidence = 0.99"
   ]
  },
  {
   "cell_type": "markdown",
   "id": "9ba87890",
   "metadata": {},
   "source": [
    "Sample mean"
   ]
  },
  {
   "cell_type": "code",
   "execution_count": 7,
   "id": "bde96cb0",
   "metadata": {},
   "outputs": [
    {
     "name": "stdout",
     "output_type": "stream",
     "text": [
      "sample mean 1.2386666666666666\n"
     ]
    }
   ],
   "source": [
    "sample_mean = sum(df)/len(df)\n",
    "print(\"sample mean\", sample_mean)"
   ]
  },
  {
   "cell_type": "markdown",
   "id": "aa5693e2",
   "metadata": {},
   "source": [
    "Sample standard deviation(s)"
   ]
  },
  {
   "cell_type": "code",
   "execution_count": 8,
   "id": "e6f45e13",
   "metadata": {},
   "outputs": [
    {
     "name": "stdout",
     "output_type": "stream",
     "text": [
      "sample standard deviation: 0.18661427836285438\n"
     ]
    }
   ],
   "source": [
    "sample_std =np.std(df)\n",
    "sample_std\n",
    "print(\"sample standard deviation:\",sample_std)"
   ]
  },
  {
   "cell_type": "markdown",
   "id": "9afdd4bb",
   "metadata": {},
   "source": [
    "sample size"
   ]
  },
  {
   "cell_type": "code",
   "execution_count": 9,
   "id": "f2a95e05",
   "metadata": {},
   "outputs": [
    {
     "name": "stdout",
     "output_type": "stream",
     "text": [
      "sample Size: 15\n"
     ]
    }
   ],
   "source": [
    "sample_size = len(df)\n",
    "sample_size \n",
    "print(\"sample Size:\",sample_size)"
   ]
  },
  {
   "cell_type": "markdown",
   "id": "eaca28e3",
   "metadata": {},
   "source": [
    "#  t-distribution"
   ]
  },
  {
   "cell_type": "markdown",
   "id": "11af5744",
   "metadata": {},
   "source": [
    "The t-distribution is a type of probability distribution that is used to estimate population parameters when the sample size is small and the population standard deviation is unknown.\n",
    "\n",
    "\n",
    "1)You have a small sample size (usually less than 30).\n",
    "\n",
    "2)The population standard deviation (σ) is unknown.\n",
    "\n",
    "3)The data is approximately normally distributed.\n",
    "\n"
   ]
  },
  {
   "cell_type": "code",
   "execution_count": 29,
   "id": "32bfd91d",
   "metadata": {
    "scrolled": true
   },
   "outputs": [
    {
     "data": {
      "text/plain": [
       "(0.6831453080405262, 1.794188025292807)"
      ]
     },
     "execution_count": 29,
     "metadata": {},
     "output_type": "execute_result"
    }
   ],
   "source": [
    "st.t.interval(0.99,14,sample_mean,sample_std)"
   ]
  },
  {
   "cell_type": "markdown",
   "id": "b60c7811",
   "metadata": {},
   "source": [
    "USING PPF: In confidence interval calculations, ppf (Percent-Point Function) is used to find the critical value (Z-score or t-score) that corresponds to a given confidence level."
   ]
  },
  {
   "cell_type": "code",
   "execution_count": 24,
   "id": "2c32879b",
   "metadata": {},
   "outputs": [],
   "source": [
    "t_stat=st.t.ppf(0.99,14,sample_mean,sample_std)"
   ]
  },
  {
   "cell_type": "code",
   "execution_count": 25,
   "id": "36a3e9a2",
   "metadata": {},
   "outputs": [
    {
     "data": {
      "text/plain": [
       "1.7284347331520116"
      ]
     },
     "execution_count": 25,
     "metadata": {},
     "output_type": "execute_result"
    }
   ],
   "source": [
    "t_stat"
   ]
  },
  {
   "cell_type": "markdown",
   "id": "99da8d14",
   "metadata": {},
   "source": [
    "USING MARGIN ERROR:The Margin of Error (ME) is the maximum amount of error expected in a confidence interval estimate. It represents how much the sample estimate (like the sample mean) could vary from the true population value."
   ]
  },
  {
   "cell_type": "code",
   "execution_count": 26,
   "id": "8ded5743",
   "metadata": {},
   "outputs": [],
   "source": [
    "Margin = t_stat*(sample_std /np.sqrt(sample_size))"
   ]
  },
  {
   "cell_type": "code",
   "execution_count": 27,
   "id": "5e89a554",
   "metadata": {},
   "outputs": [
    {
     "data": {
      "text/plain": [
       "0.08328220691687457"
      ]
     },
     "execution_count": 27,
     "metadata": {},
     "output_type": "execute_result"
    }
   ],
   "source": [
    "Margin"
   ]
  },
  {
   "cell_type": "markdown",
   "id": "42f443a7",
   "metadata": {},
   "source": [
    "#  Task B Build 99% Confidence Interval Using Known Population Standard Deviation"
   ]
  },
  {
   "cell_type": "markdown",
   "id": "e02ab252",
   "metadata": {},
   "source": [
    "The Z-distribution, also called the standard normal distribution, is a bell-shaped curve that shows the distribution of data that is normally distributed with:\n",
    "\n",
    "Mean = 0\n",
    "\n",
    "Standard Deviation = 1\n",
    "\n"
   ]
  },
  {
   "cell_type": "code",
   "execution_count": 36,
   "id": "f6206009",
   "metadata": {},
   "outputs": [],
   "source": [
    "sigma = 0.2# population std\n",
    "confidence_level = 0.99\n"
   ]
  },
  {
   "cell_type": "code",
   "execution_count": 37,
   "id": "e46f2ff3",
   "metadata": {},
   "outputs": [
    {
     "data": {
      "text/plain": [
       "(14.48483413929022, 15.51516586070978)"
      ]
     },
     "execution_count": 37,
     "metadata": {},
     "output_type": "execute_result"
    }
   ],
   "source": [
    "st.norm.interval(0.99,sample_size,0.2)"
   ]
  },
  {
   "cell_type": "markdown",
   "id": "7852053f",
   "metadata": {},
   "source": [
    "USING PPF\n",
    "In confidence interval calculations, ppf (Percent-Point Function) is used to find the critical value (Z-score or t-score) that corresponds to a given confidence level."
   ]
  },
  {
   "cell_type": "code",
   "execution_count": 38,
   "id": "7f190a14",
   "metadata": {},
   "outputs": [],
   "source": [
    " Z_distribution=st.norm.ppf(0.99,sample_size,0.2)"
   ]
  },
  {
   "cell_type": "code",
   "execution_count": 39,
   "id": "a9bcfaf8",
   "metadata": {},
   "outputs": [
    {
     "data": {
      "text/plain": [
       "15.465269574808168"
      ]
     },
     "execution_count": 39,
     "metadata": {},
     "output_type": "execute_result"
    }
   ],
   "source": [
    " Z_distribution"
   ]
  },
  {
   "cell_type": "markdown",
   "id": "2182d7d5",
   "metadata": {},
   "source": [
    "USING MARGIN ERROR:The Margin of Error (ME) is the maximum amount of error expected in a confidence interval estimate. It represents how much the sample estimate (like the sample mean) could vary from the true population value."
   ]
  },
  {
   "cell_type": "code",
   "execution_count": 40,
   "id": "44f5e08b",
   "metadata": {},
   "outputs": [],
   "source": [
    "Margin_error=Z_distribution*(sigma / np.sqrt(sample_size))"
   ]
  },
  {
   "cell_type": "code",
   "execution_count": 41,
   "id": "043fb87c",
   "metadata": {},
   "outputs": [
    {
     "data": {
      "text/plain": [
       "0.798623086771204"
      ]
     },
     "execution_count": 41,
     "metadata": {},
     "output_type": "execute_result"
    }
   ],
   "source": [
    "Margin_error"
   ]
  },
  {
   "cell_type": "markdown",
   "id": "3a95ecfc",
   "metadata": {},
   "source": [
    "# Conclusion:"
   ]
  },
  {
   "cell_type": "markdown",
   "id": "d75810f2",
   "metadata": {},
   "source": [
    "*The confidence intervals from both methods will be slightly different.\n",
    "\n",
    "*The t-distribution gives a wider confidence interval because it accounts for extra uncertainty due to estimating Sample standard deviation(s)\n",
    "\n",
    "\n",
    "*The Z-distribution gives a narrower confidence interval since we have more confidence in population standard deviation\n",
    "\n",
    "\n",
    "*If the two intervals overlap, we can conclude that the sample is a good estimator of the population."
   ]
  }
 ],
 "metadata": {
  "kernelspec": {
   "display_name": "Python 3 (ipykernel)",
   "language": "python",
   "name": "python3"
  },
  "language_info": {
   "codemirror_mode": {
    "name": "ipython",
    "version": 3
   },
   "file_extension": ".py",
   "mimetype": "text/x-python",
   "name": "python",
   "nbconvert_exporter": "python",
   "pygments_lexer": "ipython3",
   "version": "3.9.12"
  }
 },
 "nbformat": 4,
 "nbformat_minor": 5
}
